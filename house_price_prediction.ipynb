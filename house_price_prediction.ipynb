{
 "cells": [
  {
   "cell_type": "code",
   "execution_count": null,
   "id": "fd2129cb",
   "metadata": {},
   "outputs": [],
   "source": [
    "# House Price Prediction using Linear Regression\n",
    "\n",
    "import pandas as pd\n",
    "from sklearn.model_selection import train_test_split\n",
    "from sklearn.linear_model import LinearRegression\n",
    "from sklearn.metrics import mean_squared_error\n",
    "\n",
    "# Sample dataset\n",
    "data = {\n",
    "    \"area\": [1000, 1500, 2000, 2500, 3000],\n",
    "    \"bedrooms\": [2, 3, 3, 4, 4],\n",
    "    \"price\": [200000, 300000, 400000, 450000, 500000]\n",
    "}\n",
    "df = pd.DataFrame(data)\n",
    "\n",
    "X = df[['area', 'bedrooms']]\n",
    "y = df['price']\n",
    "\n",
    "X_train, X_test, y_train, y_test = train_test_split(X, y, test_size=0.2, random_state=42)\n",
    "\n",
    "model = LinearRegression()\n",
    "model.fit(X_train, y_train)\n",
    "\n",
    "predictions = model.predict(X_test)\n",
    "print(\"Predictions:\", predictions)\n",
    "print(\"MSE:\", mean_squared_error(y_test, predictions))\n"
   ]
  }
 ],
 "metadata": {},
 "nbformat": 4,
 "nbformat_minor": 5
}
