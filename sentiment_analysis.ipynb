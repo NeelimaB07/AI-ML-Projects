{
 "cells": [
  {
   "cell_type": "code",
   "execution_count": null,
   "id": "2dbf88b5",
   "metadata": {},
   "outputs": [],
   "source": [
    "# Sentiment Analysis on Movie Reviews\n",
    "\n",
    "import nltk\n",
    "nltk.download('movie_reviews')\n",
    "from nltk.corpus import movie_reviews\n",
    "import random\n",
    "from sklearn.feature_extraction.text import CountVectorizer\n",
    "from sklearn.linear_model import LogisticRegression\n",
    "from sklearn.metrics import accuracy_score\n",
    "\n",
    "docs = [(list(movie_reviews.words(fileid)), category)\n",
    "         for category in movie_reviews.categories()\n",
    "         for fileid in movie_reviews.fileids(category)]\n",
    "\n",
    "random.shuffle(docs)\n",
    "\n",
    "texts = [\" \".join(words) for words, label in docs]\n",
    "labels = [label for words, label in docs]\n",
    "\n",
    "vectorizer = CountVectorizer(max_features=2000)\n",
    "X = vectorizer.fit_transform(texts)\n",
    "y = labels\n",
    "\n",
    "X_train, X_test = X[:1500], X[1500:]\n",
    "y_train, y_test = y[:1500], y[1500:]\n",
    "\n",
    "model = LogisticRegression(max_iter=200)\n",
    "model.fit(X_train, y_train)\n",
    "\n",
    "pred = model.predict(X_test)\n",
    "print(\"Accuracy:\", accuracy_score(y_test, pred))\n"
   ]
  }
 ],
 "metadata": {},
 "nbformat": 4,
 "nbformat_minor": 5
}
